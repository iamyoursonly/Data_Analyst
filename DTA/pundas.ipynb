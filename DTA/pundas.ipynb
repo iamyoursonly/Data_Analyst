{
 "cells": [
  {
   "cell_type": "code",
   "execution_count": 3,
   "id": "8ae6883c",
   "metadata": {},
   "outputs": [],
   "source": [
    "import pandas as pd"
   ]
  },
  {
   "cell_type": "code",
   "execution_count": 4,
   "id": "bb4780e3",
   "metadata": {},
   "outputs": [
    {
     "name": "stdout",
     "output_type": "stream",
     "text": [
      "a    1\n",
      "b    2\n",
      "c    3\n",
      "dtype: int64\n"
     ]
    }
   ],
   "source": [
    "## create series from a dictionary\n",
    "data_dict = {'a': 1, 'b': 2, 'c': 3}\n",
    "series_from_dict = pd.Series(data_dict)\n",
    "print(series_from_dict)"
   ]
  },
  {
   "cell_type": "code",
   "execution_count": 5,
   "id": "afb3f2aa",
   "metadata": {},
   "outputs": [
    {
     "data": {
      "text/plain": [
       "a    1\n",
       "b    2\n",
       "c    3\n",
       "d    4\n",
       "e    9\n",
       "dtype: int64"
      ]
     },
     "execution_count": 5,
     "metadata": {},
     "output_type": "execute_result"
    }
   ],
   "source": [
    "## index series\n",
    "data = [1, 2, 3, 4, 9]\n",
    "index = ['a', 'b', 'c', 'd', 'e']\n",
    "pd.Series(data, index=index)\n",
    "## series_with_index = pd.Series(data, index=index)\n",
    "## print(series_with_index)"
   ]
  },
  {
   "cell_type": "code",
   "execution_count": null,
   "id": "9de73708",
   "metadata": {},
   "outputs": [],
   "source": [
    "## DataFrame\n",
    "## A DataFrame is a two-dimensional labeled data structure with columns of potentially different types."
   ]
  },
  {
   "cell_type": "code",
   "execution_count": 8,
   "id": "36f4ed71",
   "metadata": {},
   "outputs": [
    {
     "name": "stdout",
     "output_type": "stream",
     "text": [
      "      name  age         city\n",
      "0     Amit   23     New York\n",
      "1  Swapnil   22  Los Angeles\n",
      "2  Harshit   24      Chicago\n",
      "<class 'pandas.core.frame.DataFrame'>\n"
     ]
    }
   ],
   "source": [
    " ##Dataframe\n",
    "## create a dataframe from a dictionary off list\n",
    "data={\n",
    "    'name': ['Amit', 'Swapnil', 'Harshit'],\n",
    "    'age': [23, 22, 24],\n",
    "    'city': ['New York', 'Los Angeles', 'Chicago']\n",
    "}\n",
    "df=pd.DataFrame(data)\n",
    "\n",
    "print(df)\n",
    "print(type(df))  # Check the type of the DataFrame\n",
    "\n",
    "\n",
    "\n"
   ]
  },
  {
   "cell_type": "code",
   "execution_count": 9,
   "id": "0beef51b",
   "metadata": {},
   "outputs": [
    {
     "data": {
      "text/plain": [
       "array([['Amit', 23, 'New York'],\n",
       "       ['Swapnil', 22, 'Los Angeles'],\n",
       "       ['Harshit', 24, 'Chicago']], dtype=object)"
      ]
     },
     "execution_count": 9,
     "metadata": {},
     "output_type": "execute_result"
    }
   ],
   "source": [
    "import numpy as np\n",
    "np.array(df)"
   ]
  },
  {
   "cell_type": "code",
   "execution_count": 57,
   "id": "c129f42c",
   "metadata": {},
   "outputs": [
    {
     "name": "stdout",
     "output_type": "stream",
     "text": [
      "      name  age  Salary  age_inc  age_dec\n",
      "0     Amit   31   50000       35       25\n",
      "1    Billu   26   60000       30       20\n",
      "2  Charlie   36   70000       40       30\n"
     ]
    }
   ],
   "source": [
    "## create a dataframe from a list of dictionaries\n",
    "data = [\n",
    "    {'name': 'Amit', 'age': 30, 'city': 'Noida'},\n",
    "    {'name': 'Billu', 'age': 25, 'city': 'Lapataganj'},\n",
    "    {'name': 'Charlie', 'age': 35, 'city': 'Chicago'}\n",
    "]\n",
    "df = pd.DataFrame(data)\n",
    "#print(df)\n",
    "#print(type(df))  # Check the type of the DataFrame\n",
    "## Data manipulation with DataFrame\n",
    "df['Salary'] = [50000, 60000, 70000] #Add a column \n",
    "## drop a column \n",
    "#agar temprory karna hai to inplace use nhi krenge and if we use inplace=True then it affect permanent\n",
    "df.drop('city', axis=1, inplace=True)  # Drop the 'city' column\n",
    "## ADD AGE TO THE COLUMN with manipulation of data (if changfe column name the create a new column Aautomatically\n",
    "df['age_inc'] = df['age'] + 5\n",
    "df['age_dec'] = df['age'] - 5\n",
    "## jab hame use columne me manipulation karna ho tab\n",
    "df['age'] = df['age'] + 1  # Increment the 'age' column by 1\n",
    "print(df)\n"
   ]
  },
  {
   "cell_type": "code",
   "execution_count": 59,
   "id": "bb74ae3e",
   "metadata": {},
   "outputs": [
    {
     "data": {
      "text/plain": [
       "Date        2023-01-01\n",
       "Category             A\n",
       "Value             28.0\n",
       "Product       Product1\n",
       "Sales            754.0\n",
       "Region            East\n",
       "Name: 0, dtype: object"
      ]
     },
     "execution_count": 59,
     "metadata": {},
     "output_type": "execute_result"
    }
   ],
   "source": [
    "## csv file kaise padhe same folder me hona chahiye \n",
    "\n",
    "df=pd.read_csv('data.csv')\n",
    "##df.head(5)\n",
    "##df.tail(5)\n",
    "##print(df.tail(5))  # Display the last 5 rows of the DataFrame\n",
    "##df\n",
    "##df['Value']\n",
    "##df.loc[0]\n",
    "df.iloc[0]"
   ]
  },
  {
   "cell_type": "code",
   "execution_count": null,
   "id": "7aca1257",
   "metadata": {},
   "outputs": [
    {
     "data": {
      "text/html": [
       "<div>\n",
       "<style scoped>\n",
       "    .dataframe tbody tr th:only-of-type {\n",
       "        vertical-align: middle;\n",
       "    }\n",
       "\n",
       "    .dataframe tbody tr th {\n",
       "        vertical-align: top;\n",
       "    }\n",
       "\n",
       "    .dataframe thead th {\n",
       "        text-align: right;\n",
       "    }\n",
       "</style>\n",
       "<table border=\"1\" class=\"dataframe\">\n",
       "  <thead>\n",
       "    <tr style=\"text-align: right;\">\n",
       "      <th></th>\n",
       "      <th>Value</th>\n",
       "      <th>Sales</th>\n",
       "    </tr>\n",
       "  </thead>\n",
       "  <tbody>\n",
       "    <tr>\n",
       "      <th>count</th>\n",
       "      <td>47.000000</td>\n",
       "      <td>46.000000</td>\n",
       "    </tr>\n",
       "    <tr>\n",
       "      <th>mean</th>\n",
       "      <td>51.744681</td>\n",
       "      <td>557.130435</td>\n",
       "    </tr>\n",
       "    <tr>\n",
       "      <th>std</th>\n",
       "      <td>29.050532</td>\n",
       "      <td>274.598584</td>\n",
       "    </tr>\n",
       "    <tr>\n",
       "      <th>min</th>\n",
       "      <td>2.000000</td>\n",
       "      <td>108.000000</td>\n",
       "    </tr>\n",
       "    <tr>\n",
       "      <th>25%</th>\n",
       "      <td>27.500000</td>\n",
       "      <td>339.000000</td>\n",
       "    </tr>\n",
       "    <tr>\n",
       "      <th>50%</th>\n",
       "      <td>54.000000</td>\n",
       "      <td>591.500000</td>\n",
       "    </tr>\n",
       "    <tr>\n",
       "      <th>75%</th>\n",
       "      <td>70.000000</td>\n",
       "      <td>767.500000</td>\n",
       "    </tr>\n",
       "    <tr>\n",
       "      <th>max</th>\n",
       "      <td>99.000000</td>\n",
       "      <td>992.000000</td>\n",
       "    </tr>\n",
       "  </tbody>\n",
       "</table>\n",
       "</div>"
      ],
      "text/plain": [
       "           Value       Sales\n",
       "count  47.000000   46.000000\n",
       "mean   51.744681  557.130435\n",
       "std    29.050532  274.598584\n",
       "min     2.000000  108.000000\n",
       "25%    27.500000  339.000000\n",
       "50%    54.000000  591.500000\n",
       "75%    70.000000  767.500000\n",
       "max    99.000000  992.000000"
      ]
     },
     "execution_count": 62,
     "metadata": {},
     "output_type": "execute_result"
    }
   ],
   "source": [
    "## Accessing  a specific element \n",
    "## print(df)\n",
    "#df.at[1,'Sales']\n",
    "df.iat[1, 2]  # Accessing the element at row index 1 and column index 2\n",
    "df.describe() ## kafi kuch automate krega\n"
   ]
  },
  {
   "cell_type": "code",
   "execution_count": 58,
   "id": "516fb835",
   "metadata": {},
   "outputs": [
    {
     "name": "stdout",
     "output_type": "stream",
     "text": [
      "      name  age  Salary  age_inc  age_dec\n",
      "0     Amit   31   50000       35       25\n",
      "1    Billu   26   60000       30       20\n",
      "2  Charlie   36   70000       40       30\n"
     ]
    }
   ],
   "source": [
    "## Data manipulation with DataFrame\n",
    "print(df)"
   ]
  }
 ],
 "metadata": {
  "kernelspec": {
   "display_name": "Python 3",
   "language": "python",
   "name": "python3"
  },
  "language_info": {
   "codemirror_mode": {
    "name": "ipython",
    "version": 3
   },
   "file_extension": ".py",
   "mimetype": "text/x-python",
   "name": "python",
   "nbconvert_exporter": "python",
   "pygments_lexer": "ipython3",
   "version": "3.12.0"
  }
 },
 "nbformat": 4,
 "nbformat_minor": 5
}
