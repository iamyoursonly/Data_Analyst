{
 "cells": [
  {
   "cell_type": "code",
   "execution_count": 2,
   "id": "13c067fc",
   "metadata": {},
   "outputs": [],
   "source": [
    "import numpy as np"
   ]
  },
  {
   "cell_type": "code",
   "execution_count": 16,
   "id": "5517d94e",
   "metadata": {},
   "outputs": [
    {
     "name": "stdout",
     "output_type": "stream",
     "text": [
      "[1 2 3 4 5]\n",
      "<class 'numpy.ndarray'>\n",
      "(5,)\n",
      "int64\n",
      "1\n",
      "5\n",
      "8\n",
      "40\n"
     ]
    }
   ],
   "source": [
    "arr1=np.array([1,2,3,4,5])\n",
    "print(arr1)\n",
    "print(type(arr1))\n",
    "print(arr1.shape)\n",
    "print(arr1.dtype)\n",
    "print(arr1.ndim)\n",
    "print(arr1.size)\n",
    "print(arr1.itemsize)\n",
    "print(arr1.nbytes)"
   ]
  },
  {
   "cell_type": "code",
   "execution_count": 19,
   "id": "31002118",
   "metadata": {},
   "outputs": [
    {
     "name": "stdout",
     "output_type": "stream",
     "text": [
      "[1 2 3 4 5]\n"
     ]
    }
   ],
   "source": [
    "arr2 = np.array([1, 2, 3, 4, 5]}\n",
    "arr2.reshape(1,5)# Reshape to 1 row and 5 columns\n",
    "print(arr2)\n"
   ]
  },
  {
   "cell_type": "code",
   "execution_count": 25,
   "id": "537fd764",
   "metadata": {},
   "outputs": [
    {
     "name": "stdout",
     "output_type": "stream",
     "text": [
      "[ 7  9 11 13 15]\n",
      "[ 6 14 24 36 50]\n",
      "[ 1  2  3  4  5  6  7  8  9 10]\n",
      "<class 'numpy.ndarray'>\n"
     ]
    }
   ],
   "source": [
    "arr2=np.array([1,2,3,4,5])\n",
    "arr3=np.array([6,7,8,9,10])\n",
    "arr4=np.concatenate((arr2,arr3))\n",
    "print(arr2+arr3)\n",
    "print(arr2*arr3)\n",
    "print(arr4)\n",
    "print(type(arr4))"
   ]
  },
  {
   "cell_type": "code",
   "execution_count": 27,
   "id": "136a4e36",
   "metadata": {},
   "outputs": [
    {
     "name": "stdout",
     "output_type": "stream",
     "text": [
      "[1.         1.41421356 1.73205081 2.         2.23606798]\n",
      "[  2.71828183   7.3890561   20.08553692  54.59815003 148.4131591 ]\n",
      "[0.         0.69314718 1.09861229 1.38629436 1.60943791]\n",
      "[ 0.84147098  0.90929743  0.14112001 -0.7568025  -0.95892427]\n",
      "[ 0.54030231 -0.41614684 -0.9899925  -0.65364362  0.28366219]\n"
     ]
    }
   ],
   "source": [
    "## universal functions\n",
    "arr1 = np.array([1, 2, 3, 4, 5])\n",
    "print(np.sqrt(arr1)) ## Square root\n",
    "print(np.exp(arr1)) ## Exponential\n",
    "print(np.log(arr1)) ## Natural logarithm\n",
    "print(np.sin(arr1)) ## Sine\n",
    "print(np.cos(arr1))"
   ]
  },
  {
   "cell_type": "code",
   "execution_count": 40,
   "id": "63534218",
   "metadata": {},
   "outputs": [
    {
     "name": "stdout",
     "output_type": "stream",
     "text": [
      "2\n",
      "[[ 1  2  3  4]\n",
      " [ 5  6  7  8]\n",
      " [ 9 10 11 12]]\n",
      "Accessing a specific element:\n",
      "[5 6 7 8]\n",
      "coment \n",
      "[[ 5  6  7  8]\n",
      " [ 9 10 11 12]]\n"
     ]
    }
   ],
   "source": [
    "##array slicing indexing\n",
    "arr2 = np.array([[1, 2, 3], [4, 5, 6]])\n",
    "print(arr2[0, 1])\n",
    "## Slicing three dimensional array\n",
    "arr3 = np.array([[1,2,3,4],[5,6,7,8],[9,10,11,12]])\n",
    "print(arr3)\n",
    "print(\"Accessing a specific element:\")  \n",
    "print(arr3[1])  # Slicing rows and columns\n",
    "print(\"coment \")  # Accessing a specific element\n",
    "print(arr3[1:3])  # Accessing a specific element"
   ]
  },
  {
   "cell_type": "code",
   "execution_count": null,
   "id": "5d3ca64a",
   "metadata": {},
   "outputs": [
    {
     "name": "stdout",
     "output_type": "stream",
     "text": [
      "[[ 1 10  3]\n",
      " [ 4  5  6]]\n"
     ]
    }
   ],
   "source": [
    "## modifying array\n",
    "arr2 = np.array([[1, 2, 3], [4, 5, 6]])\n",
    "arr2[0, 1] = 10     # Modifying a specific element                  \n",
    "print(arr2)\n"
   ]
  },
  {
   "cell_type": "code",
   "execution_count": null,
   "id": "3fc9634b",
   "metadata": {},
   "outputs": [
    {
     "name": "stdout",
     "output_type": "stream",
     "text": [
      "Original Data: [1 2 3 4 5]\n",
      "Mean: 3.0\n",
      "Standard Deviation: 1.4142135623730951\n",
      "Normalized Data: [-1.41421356 -0.70710678  0.          0.70710678  1.41421356]\n"
     ]
    }
   ],
   "source": [
    "### stastical concept normalization\n",
    "## to have a mean of 0 and standard deviation of 1\n",
    "data = np.array([1, 2, 3, 4, 5])\n",
    "#calculate mean and standard deviation\n",
    "mean = np.mean(data)\n",
    "std_dev = np.std(data)\n",
    "# Normalize the data\n",
    "normalized_data = (data - mean) / std_dev\n",
    "print(\"Original Data:\", data)\n",
    "print(\"Mean:\", mean)\n",
    "print(\"Standard Deviation:\", std_dev)\n",
    "print(\"Normalized Data:\", normalized_data)\n",
    "\n",
    "\n"
   ]
  },
  {
   "cell_type": "code",
   "execution_count": 44,
   "id": "05993a0c",
   "metadata": {},
   "outputs": [
    {
     "name": "stdout",
     "output_type": "stream",
     "text": [
      "Mean: 5.5\n",
      "Median: 5.5\n",
      "Standard Deviation: 2.8722813232690143\n",
      "Variance: 8.25\n"
     ]
    }
   ],
   "source": [
    "data = np.array([1, 2, 3, 4, 5,6,7,8,9,10])\n",
    "# Calculate the mean and standard deviation\n",
    "mean = np.mean(data)\n",
    "print(\"Mean:\", mean)\n",
    "# Median\n",
    "median = np.median(data)\n",
    "print(\"Median:\", median)\n",
    "# Standard deviation        \n",
    "print(\"Standard Deviation:\", np.std(data))\n",
    "std_dev = np.std(data)\n",
    "# Variance\n",
    "variance = np.var(data)\n",
    "print(\"Variance:\", variance)    "
   ]
  },
  {
   "cell_type": "code",
   "execution_count": 55,
   "id": "ad20826f",
   "metadata": {},
   "outputs": [
    {
     "data": {
      "text/plain": [
       "array([ 1,  2,  3,  4,  9, 10])"
      ]
     },
     "execution_count": 55,
     "metadata": {},
     "output_type": "execute_result"
    }
   ],
   "source": [
    "## logical operations\n",
    "arr1 = np.array([1, 2, 3, 4, 5,6,7,8,9,10])\n",
    "arr1>3# Logical operation to check if elements are greater than 3   \n",
    "arr1[arr1 > 3]  # Filtering elements greater than 3\n",
    "arr1[(arr1 < 5) & (arr1 > 2)]  # Filtering elements less than 5 and 4\n",
    "arr1[(arr1 < 5) | (arr1 > 8)]  # Filtering elements less than 5 or greater than 8"
   ]
  },
  {
   "cell_type": "code",
   "execution_count": 3,
   "id": "ab168df7",
   "metadata": {},
   "outputs": [
    {
     "name": "stdout",
     "output_type": "stream",
     "text": [
      "[[ 8  5  1 18  7]\n",
      " [11  1  1 15 13]\n",
      " [18 10  1  8 11]\n",
      " [ 7  3  1 11 14]\n",
      " [ 4  6  1  1 11]]\n"
     ]
    }
   ],
   "source": [
    "# Create a 5x5 array filled with random integers between 1 and 20\n",
    "arr = np.random.randint(1, 21, size=(5, 5))\n",
    "\n",
    "# Replace all elements in the third column (index 2) with 1\n",
    "arr[:, 2] = 1\n",
    "\n",
    "print(arr)\n"
   ]
  }
 ],
 "metadata": {
  "kernelspec": {
   "display_name": "Python 3",
   "language": "python",
   "name": "python3"
  },
  "language_info": {
   "codemirror_mode": {
    "name": "ipython",
    "version": 3
   },
   "file_extension": ".py",
   "mimetype": "text/x-python",
   "name": "python",
   "nbconvert_exporter": "python",
   "pygments_lexer": "ipython3",
   "version": "3.12.0"
  }
 },
 "nbformat": 4,
 "nbformat_minor": 5
}
