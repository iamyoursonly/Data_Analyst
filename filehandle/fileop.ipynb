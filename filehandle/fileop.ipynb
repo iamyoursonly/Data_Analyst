{
 "cells": [
  {
   "cell_type": "code",
   "execution_count": 22,
   "id": "2e6a72a4",
   "metadata": {},
   "outputs": [
    {
     "name": "stdout",
     "output_type": "stream",
     "text": [
      "amit mishraamit pandit mishra 1234\n"
     ]
    }
   ],
   "source": [
    "with open(\"examp.txt\", 'r') as file:\n",
    "    content = file.read()\n",
    "    print(content)"
   ]
  },
  {
   "cell_type": "code",
   "execution_count": 25,
   "id": "6d1cc3b5",
   "metadata": {},
   "outputs": [],
   "source": [
    "with open(\"examp.txt\", \"w\") as file:\n",
    "    file.write(\"amit mishra\") \n",
    "    file.write(\"amit pandit mishra 1234 \\n\")\n",
    "    file.writelines([\"GREATER\\n\", \"MOIDA\\n\"])"
   ]
  },
  {
   "cell_type": "code",
   "execution_count": 1,
   "id": "b781161c",
   "metadata": {},
   "outputs": [
    {
     "name": "stdout",
     "output_type": "stream",
     "text": [
      "Requirement already satisfied: numpy in d:\\data_analyst\\venv\\lib\\site-packages (2.3.2)\n"
     ]
    }
   ],
   "source": [
    "!pip install numpy\n"
   ]
  },
  {
   "cell_type": "code",
   "execution_count": null,
   "id": "44a55d4f",
   "metadata": {},
   "outputs": [],
   "source": [
    "import numpy as np"
   ]
  }
 ],
 "metadata": {
  "kernelspec": {
   "display_name": "Python 3",
   "language": "python",
   "name": "python3"
  },
  "language_info": {
   "codemirror_mode": {
    "name": "ipython",
    "version": 3
   },
   "file_extension": ".py",
   "mimetype": "text/x-python",
   "name": "python",
   "nbconvert_exporter": "python",
   "pygments_lexer": "ipython3",
   "version": "3.12.0"
  }
 },
 "nbformat": 4,
 "nbformat_minor": 5
}
