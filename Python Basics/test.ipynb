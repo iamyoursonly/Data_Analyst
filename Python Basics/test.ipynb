{
 "cells": [
  {
   "cell_type": "code",
   "execution_count": 1,
   "id": "a2a09fa2",
   "metadata": {},
   "outputs": [
    {
     "name": "stdout",
     "output_type": "stream",
     "text": [
      "5790\n"
     ]
    }
   ],
   "source": [
    "print(1223 + 4567)"
   ]
  },
  {
   "cell_type": "code",
   "execution_count": 2,
   "id": "fb5ea95d",
   "metadata": {},
   "outputs": [
    {
     "name": "stdout",
     "output_type": "stream",
     "text": [
      "hello world\n"
     ]
    }
   ],
   "source": [
    "print(\"hello world\")"
   ]
  },
  {
   "cell_type": "code",
   "execution_count": 4,
   "id": "76df8a96",
   "metadata": {},
   "outputs": [
    {
     "name": "stdout",
     "output_type": "stream",
     "text": [
      "[1, 2, 3, 4, 5]\n"
     ]
    }
   ],
   "source": [
    "lst= [1, 2, 3, 4, 5]\n",
    "print(lst )"
   ]
  },
  {
   "cell_type": "code",
   "execution_count": 18,
   "id": "4d8b6a9d",
   "metadata": {},
   "outputs": [
    {
     "name": "stdout",
     "output_type": "stream",
     "text": [
      "['banana', 'cherry']\n"
     ]
    }
   ],
   "source": [
    "### access list elements\n",
    "fruit = ['apple', 'banana', 'cherry',1,2,3]\n",
    "print(fruit[1:3      ])    # Output: apple`"
   ]
  },
  {
   "cell_type": "code",
   "execution_count": null,
   "id": "b090e56b",
   "metadata": {},
   "outputs": [
    {
     "name": "stdout",
     "output_type": "stream",
     "text": [
      "['apple', 'orange', 'cherry', 1, 2, 3]\n"
     ]
    }
   ],
   "source": [
    "##modify list elements\n",
    "fruit[1] = 'orange'\n",
    "print(fruit)  # Output: ['apple', 'orange', 'cherry', 1, 2, 3]\n"
   ]
  },
  {
   "cell_type": "code",
   "execution_count": 26,
   "id": "74a962bd",
   "metadata": {},
   "outputs": [
    {
     "ename": "NameError",
     "evalue": "name 'fruits' is not defined",
     "output_type": "error",
     "traceback": [
      "\u001b[31m---------------------------------------------------------------------------\u001b[39m",
      "\u001b[31mNameError\u001b[39m                                 Traceback (most recent call last)",
      "\u001b[36mCell\u001b[39m\u001b[36m \u001b[39m\u001b[32mIn[26]\u001b[39m\u001b[32m, line 1\u001b[39m\n\u001b[32m----> \u001b[39m\u001b[32m1\u001b[39m \u001b[43mfruits\u001b[49m\n",
      "\u001b[31mNameError\u001b[39m: name 'fruits' is not defined"
     ]
    }
   ],
   "source": [
    "fruits"
   ]
  },
  {
   "cell_type": "code",
   "execution_count": 24,
   "id": "cb3c2468",
   "metadata": {},
   "outputs": [
    {
     "name": "stdout",
     "output_type": "stream",
     "text": [
      "['banana', 'cherry']\n"
     ]
    }
   ],
   "source": [
    "fruit = ['apple', 'banana', 'cherry',1,2,3]\n",
    "print(fruit[1:3])\n"
   ]
  },
  {
   "cell_type": "code",
   "execution_count": 27,
   "id": "e6a85756",
   "metadata": {},
   "outputs": [],
   "source": [
    "fruit[1:]=\"samosa\""
   ]
  },
  {
   "cell_type": "code",
   "execution_count": 28,
   "id": "5d4c81c9",
   "metadata": {},
   "outputs": [
    {
     "data": {
      "text/plain": [
       "['apple', 's', 'a', 'm', 'o', 's', 'a']"
      ]
     },
     "execution_count": 28,
     "metadata": {},
     "output_type": "execute_result"
    }
   ],
   "source": [
    "fruit"
   ]
  },
  {
   "cell_type": "code",
   "execution_count": 31,
   "id": "9697735c",
   "metadata": {},
   "outputs": [
    {
     "name": "stdout",
     "output_type": "stream",
     "text": [
      "['apple', 'mango', 'mango', 'mango', 's', 'a', 'm', 'o', 's', 'a']\n",
      "['apple', 'mango', 'mango', 'mango', 's', 'a', 'm', 'o', 's', 'a', 'kiwi']\n"
     ]
    }
   ],
   "source": [
    "fruit.insert(1, \"mango\" \n",
    "             )\n",
    "print(fruit)  # Output: ['apple', 'mango', 'banana', 'cherry', 1, 2, 3]\n",
    "\n",
    "fruit.append(\"kiwi\")\n",
    "print(fruit)  # Output: ['apple', 'mango', 'banana', 'cherry', 1, 2, 3, 'kiwi']"
   ]
  },
  {
   "cell_type": "code",
   "execution_count": 11,
   "id": "8f809094",
   "metadata": {},
   "outputs": [
    {
     "name": "stdout",
     "output_type": "stream",
     "text": [
      "1\n"
     ]
    }
   ],
   "source": [
    "emo={}\n",
    "emo['happy'] = '😊'\n",
    "emo={\"a\":1, \"b\":2, \"c\":3, \"d\":4}\n",
    "# print(type(emo))  # Output: {'happy': '😊'}\n",
    "# print(emo)  # Output: {'a': 1, 'b': 2, 'c': 3, 'd': 4}\n",
    "\n",
    "# emo['sad'] = '😢'\n",
    "# print(emo)  # Output: {'a': 1, 'b': 2, 'c': 3, 'd': 4, 'happy': '😊', 'sad': '😢'}\n",
    "# print(emo['sad'])\n",
    "print(emo.get('a'))  # Output: 😊"
   ]
  },
  {
   "cell_type": "code",
   "execution_count": 15,
   "id": "16d76703",
   "metadata": {},
   "outputs": [
    {
     "data": {
      "text/plain": [
       "array([1, 2, 3, 4, 5])"
      ]
     },
     "execution_count": 15,
     "metadata": {},
     "output_type": "execute_result"
    }
   ],
   "source": [
    "import numpy as np\n",
    "np.array([1, 2, 3, 4, 5])  # Output: array([1, 2, 3, 4, 5])"
   ]
  },
  {
   "cell_type": "code",
   "execution_count": 22,
   "id": "6a1b8176",
   "metadata": {},
   "outputs": [
    {
     "ename": "ModuleNotFoundError",
     "evalue": "No module named 'package'",
     "output_type": "error",
     "traceback": [
      "\u001b[31m---------------------------------------------------------------------------\u001b[39m",
      "\u001b[31mModuleNotFoundError\u001b[39m                       Traceback (most recent call last)",
      "\u001b[36mCell\u001b[39m\u001b[36m \u001b[39m\u001b[32mIn[22]\u001b[39m\u001b[32m, line 1\u001b[39m\n\u001b[32m----> \u001b[39m\u001b[32m1\u001b[39m \u001b[38;5;28;01mfrom\u001b[39;00m\u001b[38;5;250m \u001b[39m\u001b[34;01mpackage\u001b[39;00m\u001b[34;01m.\u001b[39;00m\u001b[34;01mmaths\u001b[39;00m\u001b[38;5;250m \u001b[39m\u001b[38;5;28;01mimport\u001b[39;00m *\n\u001b[32m      2\u001b[39m \u001b[38;5;28mprint\u001b[39m(add(\u001b[32m1\u001b[39m, \u001b[32m2\u001b[39m))\n",
      "\u001b[31mModuleNotFoundError\u001b[39m: No module named 'package'"
     ]
    }
   ],
   "source": [
    "from package.maths import *\n",
    "print(add(1, 2))"
   ]
  },
  {
   "cell_type": "code",
   "execution_count": 24,
   "id": "32d0ed9a",
   "metadata": {},
   "outputs": [
    {
     "name": "stdout",
     "output_type": "stream",
     "text": [
      "4.0\n"
     ]
    }
   ],
   "source": [
    "import math\n",
    "print(math.sqrt(16))  # Output: 4.0"
   ]
  },
  {
   "cell_type": "code",
   "execution_count": 27,
   "id": "a7e0788c",
   "metadata": {},
   "outputs": [
    {
     "name": "stdout",
     "output_type": "stream",
     "text": [
      "samosaaaauaasamosaa444aauaa\n"
     ]
    }
   ],
   "source": [
    "with open(\"exam.txt\", \"w\") as file:\n",
    "    file.write(\"samosaaaauaa\") \n",
    "    file.write(\"samosaa444aauaa\")\n",
    "with open(\"exam.txt\", \"r\") as file:\n",
    "    content = file.read()\n",
    "    print(content)"
   ]
  },
  {
   "cell_type": "code",
   "execution_count": null,
   "id": "a25f6e53",
   "metadata": {},
   "outputs": [],
   "source": []
  },
  {
   "cell_type": "code",
   "execution_count": null,
   "id": "3ce3d94d",
   "metadata": {},
   "outputs": [],
   "source": []
  }
 ],
 "metadata": {
  "kernelspec": {
   "display_name": "Python 3",
   "language": "python",
   "name": "python3"
  },
  "language_info": {
   "codemirror_mode": {
    "name": "ipython",
    "version": 3
   },
   "file_extension": ".py",
   "mimetype": "text/x-python",
   "name": "python",
   "nbconvert_exporter": "python",
   "pygments_lexer": "ipython3",
   "version": "3.12.0"
  }
 },
 "nbformat": 4,
 "nbformat_minor": 5
}
