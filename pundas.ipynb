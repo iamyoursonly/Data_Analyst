{
 "cells": [
  {
   "cell_type": "code",
   "execution_count": 1,
   "id": "8ae6883c",
   "metadata": {},
   "outputs": [],
   "source": [
    "import pandas as pd"
   ]
  },
  {
   "cell_type": "code",
   "execution_count": 4,
   "id": "bb4780e3",
   "metadata": {},
   "outputs": [
    {
     "name": "stdout",
     "output_type": "stream",
     "text": [
      "a    1\n",
      "b    2\n",
      "c    3\n",
      "dtype: int64\n"
     ]
    }
   ],
   "source": [
    "## create series from a dictionary\n",
    "data_dict = {'a': 1, 'b': 2, 'c': 3}\n",
    "series_from_dict = pd.Series(data_dict)\n",
    "print(series_from_dict)"
   ]
  },
  {
   "cell_type": "code",
   "execution_count": 5,
   "id": "afb3f2aa",
   "metadata": {},
   "outputs": [
    {
     "data": {
      "text/plain": [
       "a    1\n",
       "b    2\n",
       "c    3\n",
       "d    4\n",
       "e    9\n",
       "dtype: int64"
      ]
     },
     "execution_count": 5,
     "metadata": {},
     "output_type": "execute_result"
    }
   ],
   "source": [
    "## index series\n",
    "data = [1, 2, 3, 4, 9]\n",
    "index = ['a', 'b', 'c', 'd', 'e']\n",
    "pd.Series(data, index=index)\n",
    "## series_with_index = pd.Series(data, index=index)\n",
    "## print(series_with_index)"
   ]
  },
  {
   "cell_type": "code",
   "execution_count": null,
   "id": "9de73708",
   "metadata": {},
   "outputs": [],
   "source": [
    "## DataFrame\n",
    "## A DataFrame is a two-dimensional labeled data structure with columns of potentially different types."
   ]
  },
  {
   "cell_type": "code",
   "execution_count": 8,
   "id": "36f4ed71",
   "metadata": {},
   "outputs": [
    {
     "name": "stdout",
     "output_type": "stream",
     "text": [
      "      name  age         city\n",
      "0     Amit   23     New York\n",
      "1  Swapnil   22  Los Angeles\n",
      "2  Harshit   24      Chicago\n",
      "<class 'pandas.core.frame.DataFrame'>\n"
     ]
    }
   ],
   "source": [
    " ##Dataframe\n",
    "## create a dataframe from a dictionary off list\n",
    "data={\n",
    "    'name': ['Amit', 'Swapnil', 'Harshit'],\n",
    "    'age': [23, 22, 24],\n",
    "    'city': ['New York', 'Los Angeles', 'Chicago']\n",
    "}\n",
    "df=pd.DataFrame(data)\n",
    "\n",
    "print(df)\n",
    "print(type(df))  # Check the type of the DataFrame\n",
    "\n",
    "\n",
    "\n"
   ]
  },
  {
   "cell_type": "code",
   "execution_count": 2,
   "id": "0beef51b",
   "metadata": {},
   "outputs": [],
   "source": [
    "import numpy as np\n",
    "#np.array(df)"
   ]
  },
  {
   "cell_type": "code",
   "execution_count": null,
   "id": "c129f42c",
   "metadata": {},
   "outputs": [
    {
     "name": "stdout",
     "output_type": "stream",
     "text": [
      "      name    age        city\n",
      "0     Amit  30.00       Noida\n",
      "1    Billu  25.00  Lapataganj\n",
      "2  Charlie  35.00     Chicago\n",
      "3  Shobhit  28.75       Noida\n",
      "4   Shweta  25.00     Unknown\n",
      "      name    age        city\n",
      "0     Amit  30.00       Noida\n",
      "1    Billu  25.00  Lapataganj\n",
      "2  Charlie  35.00     Chicago\n",
      "3  Shobhit  28.75       Noida\n",
      "4   Shweta  25.00     Unknown\n"
     ]
    }
   ],
   "source": [
    "## create a dataframe from a list of dictionaries\n",
    "data = [\n",
    "    {'name': 'Amit', 'age': 30, 'city': 'Noida'},\n",
    "    {'name': 'Billu', 'age': 25, 'city': 'Lapataganj'},\n",
    "    {'name': 'Charlie', 'age': 35, 'city': 'Chicago'},\n",
    "        {'name': 'Shobhit', 'age':None , 'city': 'Noida'},\n",
    "    {'name': 'Shweta', 'age': 25, 'city':None }\n",
    "\n",
    "]\n",
    "df = pd.DataFrame(data)\n",
    "df.isna().sum()  # Count of missing values in each column\n",
    "df.fillna({'age': df['age'].mean(), 'city': 'Unknown'}, inplace=True)\n",
    "print(df)\n",
    "#print(df.dropna(subset=['age']))\n",
    "print(df.dropna(thresh=2))\n",
    "#df.fillna({'age': df['age'].mean(), 'city': 'Unknown'}, inplace=True)\n",
    "#print(df)\n",
    "#print(type(df))  # Check the type of the DataFrame\n",
    "## Data manipulation with DataFrame\n",
    "#df['Salary'] = [50000, 60000, 70000] #Add a column \n",
    "## drop a column \n",
    "#agar temprory karna hai to inplace use nhi krenge and if we use inplace=True then it affect permanent\n",
    "\n",
    "#df.drop('city', axis=1, inplace=True)  # Drop the 'city' column\n",
    "## ADD AGE TO THE COLUMN with manipulation of data (if changfe column name the create a new column Aautomatically\n",
    "#df['age_inc'] = df['age'] + 5\n",
    "#df['age_dec'] = df['age'] - 5\n",
    "## jab hame use columne me manipulation karna ho tab\n",
    "# df['age'] = df['age'] + 1  # Increment the 'age' column by 1\n",
    "#print(df)\n"
   ]
  },
  {
   "cell_type": "code",
   "execution_count": 17,
   "id": "bb74ae3e",
   "metadata": {},
   "outputs": [],
   "source": [
    "## csv file kaise padhe same folder me hona chahiye \n",
    "\n",
    "# df=pd.read_csv('data.csv')\n",
    "# df.head(5)\n",
    "# #print(df.shape)\n",
    "# ##df.tail(5)\n",
    "# # print(df.columns)\n",
    "# # print(df.info())\n",
    "# # print(df.describe())\n",
    "# ##print(df.tail(5))  # Display the last 5 rows of the DataFrame\n",
    "# ##df\n",
    "# ##df['Value']\n",
    "##df.loc[0]\n",
    "##df.iloc[0]"
   ]
  },
  {
   "cell_type": "code",
   "execution_count": 36,
   "id": "4ea28024",
   "metadata": {},
   "outputs": [
    {
     "name": "stdout",
     "output_type": "stream",
     "text": [
      "***********************1.***************************\n",
      "\n",
      "\n"
     ]
    }
   ],
   "source": [
    "#a=pd.read_csv('PandasExample.csv')\n",
    "print(\"***********************1.***************************\\n\\n\")\n",
    "# a.head(10)\n",
    "# print(df.shape)\n",
    "# #print(data)\n",
    "# df.tail(5)\n",
    "# print(df.columns)\n",
    "# print(df.info())\n",
    "# print(df.describe())\n",
    "# print(df.tail(5))  # Display the last 5 rows of the DataFrame\n",
    "# df['Value']\n"
   ]
  },
  {
   "cell_type": "code",
   "execution_count": null,
   "id": "7aca1257",
   "metadata": {},
   "outputs": [
    {
     "data": {
      "text/html": [
       "<div>\n",
       "<style scoped>\n",
       "    .dataframe tbody tr th:only-of-type {\n",
       "        vertical-align: middle;\n",
       "    }\n",
       "\n",
       "    .dataframe tbody tr th {\n",
       "        vertical-align: top;\n",
       "    }\n",
       "\n",
       "    .dataframe thead th {\n",
       "        text-align: right;\n",
       "    }\n",
       "</style>\n",
       "<table border=\"1\" class=\"dataframe\">\n",
       "  <thead>\n",
       "    <tr style=\"text-align: right;\">\n",
       "      <th></th>\n",
       "      <th>Value</th>\n",
       "      <th>Sales</th>\n",
       "    </tr>\n",
       "  </thead>\n",
       "  <tbody>\n",
       "    <tr>\n",
       "      <th>count</th>\n",
       "      <td>47.000000</td>\n",
       "      <td>46.000000</td>\n",
       "    </tr>\n",
       "    <tr>\n",
       "      <th>mean</th>\n",
       "      <td>51.744681</td>\n",
       "      <td>557.130435</td>\n",
       "    </tr>\n",
       "    <tr>\n",
       "      <th>std</th>\n",
       "      <td>29.050532</td>\n",
       "      <td>274.598584</td>\n",
       "    </tr>\n",
       "    <tr>\n",
       "      <th>min</th>\n",
       "      <td>2.000000</td>\n",
       "      <td>108.000000</td>\n",
       "    </tr>\n",
       "    <tr>\n",
       "      <th>25%</th>\n",
       "      <td>27.500000</td>\n",
       "      <td>339.000000</td>\n",
       "    </tr>\n",
       "    <tr>\n",
       "      <th>50%</th>\n",
       "      <td>54.000000</td>\n",
       "      <td>591.500000</td>\n",
       "    </tr>\n",
       "    <tr>\n",
       "      <th>75%</th>\n",
       "      <td>70.000000</td>\n",
       "      <td>767.500000</td>\n",
       "    </tr>\n",
       "    <tr>\n",
       "      <th>max</th>\n",
       "      <td>99.000000</td>\n",
       "      <td>992.000000</td>\n",
       "    </tr>\n",
       "  </tbody>\n",
       "</table>\n",
       "</div>"
      ],
      "text/plain": [
       "           Value       Sales\n",
       "count  47.000000   46.000000\n",
       "mean   51.744681  557.130435\n",
       "std    29.050532  274.598584\n",
       "min     2.000000  108.000000\n",
       "25%    27.500000  339.000000\n",
       "50%    54.000000  591.500000\n",
       "75%    70.000000  767.500000\n",
       "max    99.000000  992.000000"
      ]
     },
     "execution_count": 62,
     "metadata": {},
     "output_type": "execute_result"
    }
   ],
   "source": [
    "## Accessing  a specific element \n",
    "## print(df)\n",
    "#df.at[1,'Sales']\n",
    "df.iat[1, 2]  # Accessing the element at row index 1 and column index 2\n",
    "df.describe() ## kafi kuch automate krega\n"
   ]
  },
  {
   "cell_type": "code",
   "execution_count": 58,
   "id": "516fb835",
   "metadata": {},
   "outputs": [
    {
     "name": "stdout",
     "output_type": "stream",
     "text": [
      "      name  age  Salary  age_inc  age_dec\n",
      "0     Amit   31   50000       35       25\n",
      "1    Billu   26   60000       30       20\n",
      "2  Charlie   36   70000       40       30\n"
     ]
    }
   ],
   "source": [
    "## Data manipulation with DataFrame\n",
    "print(df)"
   ]
  },
  {
   "cell_type": "markdown",
   "id": "68421ed9",
   "metadata": {},
   "source": [
    "DATA TRANSFORMATION\n"
   ]
  },
  {
   "cell_type": "markdown",
   "id": "8f672bb9",
   "metadata": {},
   "source": [
    "> dropn na\n",
    "> drop columns\n",
    "> drop by subset\n",
    "> drop by thres\n",
    "> drop by how any \n",
    "> drop by how all\n"
   ]
  },
  {
   "cell_type": "code",
   "execution_count": null,
   "id": "3f87e6ea",
   "metadata": {},
   "outputs": [
    {
     "data": {
      "text/html": [
       "<div>\n",
       "<style scoped>\n",
       "    .dataframe tbody tr th:only-of-type {\n",
       "        vertical-align: middle;\n",
       "    }\n",
       "\n",
       "    .dataframe tbody tr th {\n",
       "        vertical-align: top;\n",
       "    }\n",
       "\n",
       "    .dataframe thead th {\n",
       "        text-align: right;\n",
       "    }\n",
       "</style>\n",
       "<table border=\"1\" class=\"dataframe\">\n",
       "  <thead>\n",
       "    <tr style=\"text-align: right;\">\n",
       "      <th></th>\n",
       "      <th>name</th>\n",
       "      <th>age</th>\n",
       "      <th>city</th>\n",
       "    </tr>\n",
       "  </thead>\n",
       "  <tbody>\n",
       "    <tr>\n",
       "      <th>0</th>\n",
       "      <td>Amit</td>\n",
       "      <td>30.0</td>\n",
       "      <td>Noida</td>\n",
       "    </tr>\n",
       "    <tr>\n",
       "      <th>1</th>\n",
       "      <td>Billu</td>\n",
       "      <td>25.0</td>\n",
       "      <td>Lapataganj</td>\n",
       "    </tr>\n",
       "    <tr>\n",
       "      <th>2</th>\n",
       "      <td>Charlie</td>\n",
       "      <td>35.0</td>\n",
       "      <td>Chicago</td>\n",
       "    </tr>\n",
       "  </tbody>\n",
       "</table>\n",
       "</div>"
      ],
      "text/plain": [
       "      name   age        city\n",
       "0     Amit  30.0       Noida\n",
       "1    Billu  25.0  Lapataganj\n",
       "2  Charlie  35.0     Chicago"
      ]
     },
     "execution_count": 64,
     "metadata": {},
     "output_type": "execute_result"
    }
   ],
   "source": [
    "data = [\n",
    "    {'name': 'Amit', 'age': 30, 'city': 'Noida'},\n",
    "    {'name': 'Billu', 'age': 25, 'city': 'Lapataganj'},\n",
    "    {'name': 'Charlie', 'age': 35, 'city': 'Chicago'},\n",
    "        {'name': 'Shobhit', 'age':None , 'city': 'Noida'},\n",
    "    {'name': 'Shweta', 'age': 25, 'city':None }\n",
    "\n",
    "]\n",
    "z = pd.DataFrame(data)\n",
    "#z.head()\n",
    "#print(z.dropna(axis=1))\n",
    "#print(z.dropna(how='all'))\n",
    "#print(z.drop(columns=['name']))\n",
    "#z.dropna(subset=['age'])\n",
    "\n",
    "# z.dropna(how='any')\n",
    "# z.dropna(how='all')\n",
    "\n",
    "#print(z.dropna(thresh=1))\n",
    "#z.drop('city', axis=1, inplace=True)  # Drop the 'city' column\n",
    "\n",
    "\n",
    "\n",
    "\n"
   ]
  },
  {
   "cell_type": "code",
   "execution_count": null,
   "id": "105fa396",
   "metadata": {},
   "outputs": [
    {
     "name": "stdout",
     "output_type": "stream",
     "text": [
      "     A     B     C     D    E\n",
      "0  1.0  10.0     x   NaN  NaN\n",
      "1  2.0   NaN  None   NaN  2.0\n",
      "2  NaN  30.0     z   NaN  NaN\n",
      "3  4.0   NaN  None  3.14  NaN\n",
      "4  5.0  50.0     w  2.71  5.0\n"
     ]
    }
   ],
   "source": [
    "tt=pd.DataFrame({\n",
    "    \"A\": [1,2,None,4,5],\n",
    "    \"B\": [10.0,np.nan,30.0,np.nan,50.0],\n",
    "    \"C\": [\"x\",None ,\"z\",None,\"w\"],\n",
    "    \"D\": [None,None,None,3.14,2.71],\n",
    "    \"E\": [None,2,None,None,5]\n",
    "})\n",
    "\n",
    "# tt_inplace=tt.copy()\n",
    "# print(tt_inplace.dropna(subset=['A'],inplace=False))\n",
    "\n",
    "#print(\"detect missing the isna() \\n\",tt.isna())\n",
    "#print(\"detect \\n\",tt.isna().sum())\n",
    "#print(\"detect \\n\",tt.isnull())\n",
    "#print(\"detect not missing values \\n\",tt.isnotna())\n",
    "#print(\"detect \",tt.isna().sum(axis=1))\n",
    "#print(\"detect \",tt.dropna())\n",
    "#tt.inplace\n",
    "#print(\"detect \\n\",tt.dropna(axis=1,thresh=3))\n",
    "#rint(\"detect \\n\",tt.dropna(axis=0,thresh=3))\n",
    "# print(tt.dropna(subset=['A','B']))\n",
    "#tt.dropna(how='any')\n",
    "##tt.dropna(how='all')\n",
    "# print(tt)\n",
    "# print(tt.fillna({\n",
    "#     'A':tt['A'].mean(),\n",
    "#     'B':tt['B'].mean(),\n",
    "#     'C':tt['C'].mode()[0],\n",
    "#     'D':tt['D'].mean(),\n",
    "#     'E':tt['E'].mean()\n",
    "# }, inplace=True))\n",
    "\n",
    "# tt.fillna({'A':0,'B':0,'C':'Unknown','D':0,'E':0}, inplace=True)\n",
    "\n",
    "#  ffill and bfill not done \n",
    "\n",
    "# tt.fillna(method='ffill', inplace=True)\n",
    "# tt=tt.ffillna()\n",
    "# print(tt.fillna(method='bfill', inplace=True))\n",
    "\n",
    "tt_interpolate=tt.copy()\n",
    "tt_interpolate['A']=tt_interpolate['A'].interpolate()\n",
    "print(tt)\n",
    "# Interpolate along the index with linear method and data time etc"
   ]
  },
  {
   "cell_type": "markdown",
   "id": "0f76c5a4",
   "metadata": {},
   "source": [
    "CREATE A DEMO DATAFRAME WITH DUPLICATE"
   ]
  },
  {
   "cell_type": "code",
   "execution_count": null,
   "id": "fead632c",
   "metadata": {},
   "outputs": [
    {
     "name": "stdout",
     "output_type": "stream",
     "text": [
      "\tORIGINAL DATAFRAME:\n",
      "\n",
      "      name  age         city\n",
      "0     Amit   23     New York\n",
      "1  Swapnil   22  Los Angeles\n",
      "2  Harshit   24      Chicago\n",
      "3     Amit   23     New York\n",
      "4  Harshit   24      Chicago\n",
      "5  Shobhit   25        Noida \n",
      "\n",
      "      name  age      city\n",
      "0     Amit   23  New York\n",
      "2  Harshit   24   Chicago\n",
      "3     Amit   23  New York\n",
      "4  Harshit   24   Chicago \n",
      "\n"
     ]
    }
   ],
   "source": [
    "data={\n",
    "    'name': ['Amit', 'Swapnil', 'Harshit','Amit','Harshit','Shobhit'],\n",
    "    'age': [23, 22, 24,23,24,25],\n",
    "    'city': ['New York', 'Los Angeles', 'Chicago','New York', 'Chicago','Noida']\n",
    "}\n",
    "df=pd.DataFrame(data)\n",
    "print(\"\\tORIGINAL DATAFRAME:\\n\")\n",
    "print(df,\"\\n\")\n",
    "\n",
    "# print(\"\\t Duplicated Boolean Value:\\n\")\n",
    "# print(\"booleaan masking for duplicate rows:\\n\",df.duplicated(),\"\\n\" )\n",
    "\n",
    "# print(\"\\t Duplicated Rows:\\n\")\n",
    "# print(\"duplicate rows are:\\n\",df[df.duplicated()])\n",
    "\n",
    "# print(\"\\t DataFrame after removing Duplicated Rows:\\n\")\n",
    "# print(df.drop_duplicates(),\"\\n\")    \n",
    "\n",
    "# print(\"\\t Duplicated Boolean Value based on 'age' column:\\n\"  )\n",
    "# print(df.duplicated(subset=['age']),\"\\n\" )\n",
    "\n",
    "# print(\"\\t keep last Duplicated Boolean Value based on 'age' column:\\n\"  )\n",
    "# print(df.duplicated(subset=['age'],keep='last'),\"\\n\" )\n",
    "# print(df.duplicated(subset=['age'],keep='first'),\"\\n\" )\n",
    "#print(df[df.duplicated(subset=['age'],keep=False)],\"\\n\" )\n",
    "\n",
    "# print(\"\\t Duplicated Rows based on 'age' column:\\n\")\n",
    "# print(df[df.duplicated(subset=['age'])],\"\\n\")\n",
    "\n",
    "# print(\"\\t DataFrame after removing Duplicated Rows based on 'name' column:\\n\")\n",
    "# print(df.drop_duplicates(subset=['name']),\"\\n\")\n",
    "\n"
   ]
  }
 ],
 "metadata": {
  "kernelspec": {
   "display_name": "Python 3",
   "language": "python",
   "name": "python3"
  },
  "language_info": {
   "codemirror_mode": {
    "name": "ipython",
    "version": 3
   },
   "file_extension": ".py",
   "mimetype": "text/x-python",
   "name": "python",
   "nbconvert_exporter": "python",
   "pygments_lexer": "ipython3",
   "version": "3.12.0"
  }
 },
 "nbformat": 4,
 "nbformat_minor": 5
}
